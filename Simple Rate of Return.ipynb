{
 "cells": [
  {
   "cell_type": "code",
   "execution_count": 15,
   "metadata": {
    "collapsed": true
   },
   "outputs": [],
   "source": [
    "import numpy as np\n",
    "from pandas_datareader import data as wb\n",
    "import matplotlib.pyplot as plt\n"
   ]
  },
  {
   "cell_type": "code",
   "execution_count": 24,
   "metadata": {},
   "outputs": [
    {
     "name": "stdout",
     "output_type": "stream",
     "text": [
      "Enter the stock symbol: CSCO\n",
      "CSCO\n"
     ]
    }
   ],
   "source": [
    "stSYM = raw_input(\"Enter the stock symbol: \")"
   ]
  },
  {
   "cell_type": "code",
   "execution_count": 25,
   "metadata": {},
   "outputs": [],
   "source": [
    "STOCK = wb.DataReader(stSYM, data_source='yahoo', start='2005-1-1')"
   ]
  },
  {
   "cell_type": "code",
   "execution_count": 27,
   "metadata": {
    "scrolled": true
   },
   "outputs": [
    {
     "name": "stdout",
     "output_type": "stream",
     "text": [
      "Last values as a sanity check\n"
     ]
    },
    {
     "data": {
      "text/html": [
       "<div>\n",
       "<style>\n",
       "    .dataframe thead tr:only-child th {\n",
       "        text-align: right;\n",
       "    }\n",
       "\n",
       "    .dataframe thead th {\n",
       "        text-align: left;\n",
       "    }\n",
       "\n",
       "    .dataframe tbody tr th {\n",
       "        vertical-align: top;\n",
       "    }\n",
       "</style>\n",
       "<table border=\"1\" class=\"dataframe\">\n",
       "  <thead>\n",
       "    <tr style=\"text-align: right;\">\n",
       "      <th></th>\n",
       "      <th>Open</th>\n",
       "      <th>High</th>\n",
       "      <th>Low</th>\n",
       "      <th>Close</th>\n",
       "      <th>Adj Close</th>\n",
       "      <th>Volume</th>\n",
       "    </tr>\n",
       "    <tr>\n",
       "      <th>Date</th>\n",
       "      <th></th>\n",
       "      <th></th>\n",
       "      <th></th>\n",
       "      <th></th>\n",
       "      <th></th>\n",
       "      <th></th>\n",
       "    </tr>\n",
       "  </thead>\n",
       "  <tbody>\n",
       "    <tr>\n",
       "      <th>2018-01-26</th>\n",
       "      <td>42.150002</td>\n",
       "      <td>42.560001</td>\n",
       "      <td>41.950001</td>\n",
       "      <td>42.560001</td>\n",
       "      <td>42.560001</td>\n",
       "      <td>23380400.0</td>\n",
       "    </tr>\n",
       "    <tr>\n",
       "      <th>2018-01-29</th>\n",
       "      <td>42.299999</td>\n",
       "      <td>42.980000</td>\n",
       "      <td>42.299999</td>\n",
       "      <td>42.849998</td>\n",
       "      <td>42.849998</td>\n",
       "      <td>23625900.0</td>\n",
       "    </tr>\n",
       "    <tr>\n",
       "      <th>2018-01-30</th>\n",
       "      <td>42.689999</td>\n",
       "      <td>42.860001</td>\n",
       "      <td>41.970001</td>\n",
       "      <td>42.250000</td>\n",
       "      <td>42.250000</td>\n",
       "      <td>28993900.0</td>\n",
       "    </tr>\n",
       "    <tr>\n",
       "      <th>2018-01-31</th>\n",
       "      <td>41.980000</td>\n",
       "      <td>42.009998</td>\n",
       "      <td>41.349998</td>\n",
       "      <td>41.540001</td>\n",
       "      <td>41.540001</td>\n",
       "      <td>35776700.0</td>\n",
       "    </tr>\n",
       "    <tr>\n",
       "      <th>2018-02-01</th>\n",
       "      <td>41.090000</td>\n",
       "      <td>42.110001</td>\n",
       "      <td>40.669998</td>\n",
       "      <td>41.700001</td>\n",
       "      <td>41.700001</td>\n",
       "      <td>22086867.0</td>\n",
       "    </tr>\n",
       "  </tbody>\n",
       "</table>\n",
       "</div>"
      ],
      "text/plain": [
       "                 Open       High        Low      Close  Adj Close      Volume\n",
       "Date                                                                         \n",
       "2018-01-26  42.150002  42.560001  41.950001  42.560001  42.560001  23380400.0\n",
       "2018-01-29  42.299999  42.980000  42.299999  42.849998  42.849998  23625900.0\n",
       "2018-01-30  42.689999  42.860001  41.970001  42.250000  42.250000  28993900.0\n",
       "2018-01-31  41.980000  42.009998  41.349998  41.540001  41.540001  35776700.0\n",
       "2018-02-01  41.090000  42.110001  40.669998  41.700001  41.700001  22086867.0"
      ]
     },
     "execution_count": 27,
     "metadata": {},
     "output_type": "execute_result"
    }
   ],
   "source": [
    "print \"Last values as a sanity check\" \n",
    "STOCK.tail()"
   ]
  },
  {
   "cell_type": "code",
   "execution_count": null,
   "metadata": {
    "collapsed": true
   },
   "outputs": [],
   "source": [
    "STOCK['simple_return'] = (STOCK['Close'] / STOCK['Close'].shift(1)) - 1\n",
    "print MSFT['simple_return']"
   ]
  }
 ],
 "metadata": {
  "kernelspec": {
   "display_name": "Python 2",
   "language": "python",
   "name": "python2"
  },
  "language_info": {
   "codemirror_mode": {
    "name": "ipython",
    "version": 2
   },
   "file_extension": ".py",
   "mimetype": "text/x-python",
   "name": "python",
   "nbconvert_exporter": "python",
   "pygments_lexer": "ipython2",
   "version": "2.7.14"
  }
 },
 "nbformat": 4,
 "nbformat_minor": 2
}
