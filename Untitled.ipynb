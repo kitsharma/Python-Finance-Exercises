{
 "cells": [
  {
   "cell_type": "code",
   "execution_count": 1,
   "metadata": {
    "collapsed": true
   },
   "outputs": [],
   "source": [
    "import numpy as np\n",
    "from pandas_datareader import data as wb\n",
    "import matplotlib.pyplot as plt\n",
    "\n"
   ]
  },
  {
   "cell_type": "code",
   "execution_count": 7,
   "metadata": {},
   "outputs": [],
   "source": [
    "AMZN = wb.DataReader('AMZN', data_source='yahoo', start='2005-1-1')"
   ]
  },
  {
   "cell_type": "code",
   "execution_count": 8,
   "metadata": {},
   "outputs": [
    {
     "data": {
      "text/html": [
       "<div>\n",
       "<style>\n",
       "    .dataframe thead tr:only-child th {\n",
       "        text-align: right;\n",
       "    }\n",
       "\n",
       "    .dataframe thead th {\n",
       "        text-align: left;\n",
       "    }\n",
       "\n",
       "    .dataframe tbody tr th {\n",
       "        vertical-align: top;\n",
       "    }\n",
       "</style>\n",
       "<table border=\"1\" class=\"dataframe\">\n",
       "  <thead>\n",
       "    <tr style=\"text-align: right;\">\n",
       "      <th></th>\n",
       "      <th>Open</th>\n",
       "      <th>High</th>\n",
       "      <th>Low</th>\n",
       "      <th>Close</th>\n",
       "      <th>Adj Close</th>\n",
       "      <th>Volume</th>\n",
       "    </tr>\n",
       "    <tr>\n",
       "      <th>Date</th>\n",
       "      <th></th>\n",
       "      <th></th>\n",
       "      <th></th>\n",
       "      <th></th>\n",
       "      <th></th>\n",
       "      <th></th>\n",
       "    </tr>\n",
       "  </thead>\n",
       "  <tbody>\n",
       "    <tr>\n",
       "      <th>2005-01-03</th>\n",
       "      <td>44.950001</td>\n",
       "      <td>45.439999</td>\n",
       "      <td>44.209999</td>\n",
       "      <td>44.520000</td>\n",
       "      <td>44.520000</td>\n",
       "      <td>10446500</td>\n",
       "    </tr>\n",
       "    <tr>\n",
       "      <th>2005-01-04</th>\n",
       "      <td>42.669998</td>\n",
       "      <td>43.259998</td>\n",
       "      <td>41.500000</td>\n",
       "      <td>42.139999</td>\n",
       "      <td>42.139999</td>\n",
       "      <td>19418500</td>\n",
       "    </tr>\n",
       "    <tr>\n",
       "      <th>2005-01-05</th>\n",
       "      <td>41.570000</td>\n",
       "      <td>42.759998</td>\n",
       "      <td>41.560001</td>\n",
       "      <td>41.770000</td>\n",
       "      <td>41.770000</td>\n",
       "      <td>8354200</td>\n",
       "    </tr>\n",
       "    <tr>\n",
       "      <th>2005-01-06</th>\n",
       "      <td>41.810001</td>\n",
       "      <td>42.250000</td>\n",
       "      <td>40.900002</td>\n",
       "      <td>41.049999</td>\n",
       "      <td>41.049999</td>\n",
       "      <td>8700900</td>\n",
       "    </tr>\n",
       "    <tr>\n",
       "      <th>2005-01-07</th>\n",
       "      <td>41.380001</td>\n",
       "      <td>42.689999</td>\n",
       "      <td>41.160000</td>\n",
       "      <td>42.320000</td>\n",
       "      <td>42.320000</td>\n",
       "      <td>9836600</td>\n",
       "    </tr>\n",
       "  </tbody>\n",
       "</table>\n",
       "</div>"
      ],
      "text/plain": [
       "                 Open       High        Low      Close  Adj Close    Volume\n",
       "Date                                                                       \n",
       "2005-01-03  44.950001  45.439999  44.209999  44.520000  44.520000  10446500\n",
       "2005-01-04  42.669998  43.259998  41.500000  42.139999  42.139999  19418500\n",
       "2005-01-05  41.570000  42.759998  41.560001  41.770000  41.770000   8354200\n",
       "2005-01-06  41.810001  42.250000  40.900002  41.049999  41.049999   8700900\n",
       "2005-01-07  41.380001  42.689999  41.160000  42.320000  42.320000   9836600"
      ]
     },
     "execution_count": 8,
     "metadata": {},
     "output_type": "execute_result"
    }
   ],
   "source": [
    "AMZN.head()"
   ]
  },
  {
   "cell_type": "code",
   "execution_count": 9,
   "metadata": {},
   "outputs": [
    {
     "data": {
      "text/html": [
       "<div>\n",
       "<style>\n",
       "    .dataframe thead tr:only-child th {\n",
       "        text-align: right;\n",
       "    }\n",
       "\n",
       "    .dataframe thead th {\n",
       "        text-align: left;\n",
       "    }\n",
       "\n",
       "    .dataframe tbody tr th {\n",
       "        vertical-align: top;\n",
       "    }\n",
       "</style>\n",
       "<table border=\"1\" class=\"dataframe\">\n",
       "  <thead>\n",
       "    <tr style=\"text-align: right;\">\n",
       "      <th></th>\n",
       "      <th>Open</th>\n",
       "      <th>High</th>\n",
       "      <th>Low</th>\n",
       "      <th>Close</th>\n",
       "      <th>Adj Close</th>\n",
       "      <th>Volume</th>\n",
       "    </tr>\n",
       "    <tr>\n",
       "      <th>Date</th>\n",
       "      <th></th>\n",
       "      <th></th>\n",
       "      <th></th>\n",
       "      <th></th>\n",
       "      <th></th>\n",
       "      <th></th>\n",
       "    </tr>\n",
       "  </thead>\n",
       "  <tbody>\n",
       "    <tr>\n",
       "      <th>2018-01-22</th>\n",
       "      <td>1297.170044</td>\n",
       "      <td>1327.449951</td>\n",
       "      <td>1296.660034</td>\n",
       "      <td>1327.310059</td>\n",
       "      <td>1327.310059</td>\n",
       "      <td>4140100</td>\n",
       "    </tr>\n",
       "    <tr>\n",
       "      <th>2018-01-23</th>\n",
       "      <td>1338.089966</td>\n",
       "      <td>1364.900024</td>\n",
       "      <td>1337.339966</td>\n",
       "      <td>1362.540039</td>\n",
       "      <td>1362.540039</td>\n",
       "      <td>5169300</td>\n",
       "    </tr>\n",
       "    <tr>\n",
       "      <th>2018-01-24</th>\n",
       "      <td>1374.819946</td>\n",
       "      <td>1388.160034</td>\n",
       "      <td>1338.000000</td>\n",
       "      <td>1357.510010</td>\n",
       "      <td>1357.510010</td>\n",
       "      <td>6807500</td>\n",
       "    </tr>\n",
       "    <tr>\n",
       "      <th>2018-01-25</th>\n",
       "      <td>1368.000000</td>\n",
       "      <td>1378.339966</td>\n",
       "      <td>1357.619995</td>\n",
       "      <td>1377.949951</td>\n",
       "      <td>1377.949951</td>\n",
       "      <td>4659300</td>\n",
       "    </tr>\n",
       "    <tr>\n",
       "      <th>2018-01-26</th>\n",
       "      <td>1392.010010</td>\n",
       "      <td>1400.060059</td>\n",
       "      <td>1380.910034</td>\n",
       "      <td>1398.819946</td>\n",
       "      <td>1398.819946</td>\n",
       "      <td>2999175</td>\n",
       "    </tr>\n",
       "  </tbody>\n",
       "</table>\n",
       "</div>"
      ],
      "text/plain": [
       "                   Open         High          Low        Close    Adj Close  \\\n",
       "Date                                                                          \n",
       "2018-01-22  1297.170044  1327.449951  1296.660034  1327.310059  1327.310059   \n",
       "2018-01-23  1338.089966  1364.900024  1337.339966  1362.540039  1362.540039   \n",
       "2018-01-24  1374.819946  1388.160034  1338.000000  1357.510010  1357.510010   \n",
       "2018-01-25  1368.000000  1378.339966  1357.619995  1377.949951  1377.949951   \n",
       "2018-01-26  1392.010010  1400.060059  1380.910034  1398.819946  1398.819946   \n",
       "\n",
       "             Volume  \n",
       "Date                 \n",
       "2018-01-22  4140100  \n",
       "2018-01-23  5169300  \n",
       "2018-01-24  6807500  \n",
       "2018-01-25  4659300  \n",
       "2018-01-26  2999175  "
      ]
     },
     "execution_count": 9,
     "metadata": {},
     "output_type": "execute_result"
    }
   ],
   "source": [
    "AMZN.tail()"
   ]
  },
  {
   "cell_type": "code",
   "execution_count": 10,
   "metadata": {},
   "outputs": [],
   "source": [
    "AMZN['Simple_Return']= (AMZN['Adj Close'] / AMZN['Adj Close'].shift(1)) - 1"
   ]
  },
  {
   "cell_type": "code",
   "execution_count": 11,
   "metadata": {},
   "outputs": [
    {
     "name": "stdout",
     "output_type": "stream",
     "text": [
      "Date\n",
      "2005-01-03         NaN\n",
      "2005-01-04   -0.053459\n",
      "2005-01-05   -0.008780\n",
      "2005-01-06   -0.017237\n",
      "2005-01-07    0.030938\n",
      "2005-01-10   -0.011342\n",
      "2005-01-11   -0.004780\n",
      "2005-01-12    0.015850\n",
      "2005-01-13    0.007092\n",
      "2005-01-14    0.045775\n",
      "2005-01-18    0.000673\n",
      "2005-01-19   -0.013908\n",
      "2005-01-20   -0.036397\n",
      "2005-01-21   -0.028329\n",
      "2005-01-24   -0.018950\n",
      "2005-01-25    0.013868\n",
      "2005-01-26    0.009770\n",
      "2005-01-27    0.023464\n",
      "2005-01-28   -0.002127\n",
      "2005-01-31    0.023685\n",
      "2005-02-01   -0.017122\n",
      "2005-02-02   -0.014124\n",
      "2005-02-03   -0.146371\n",
      "2005-02-04   -0.000839\n",
      "2005-02-07   -0.000840\n",
      "2005-02-08    0.017092\n",
      "2005-02-09   -0.011295\n",
      "2005-02-10   -0.003065\n",
      "2005-02-11    0.000000\n",
      "2005-02-14    0.006987\n",
      "                ...   \n",
      "2017-12-13   -0.000815\n",
      "2017-12-14    0.008702\n",
      "2017-12-15    0.004156\n",
      "2017-12-18    0.009702\n",
      "2017-12-19   -0.002688\n",
      "2017-12-20   -0.008220\n",
      "2017-12-21   -0.002429\n",
      "2017-12-22   -0.005448\n",
      "2017-12-26    0.007190\n",
      "2017-12-27    0.004674\n",
      "2017-12-28    0.003248\n",
      "2017-12-29   -0.014021\n",
      "2018-01-02    0.016708\n",
      "2018-01-03    0.012775\n",
      "2018-01-04    0.004476\n",
      "2018-01-05    0.016163\n",
      "2018-01-08    0.014425\n",
      "2018-01-09    0.004676\n",
      "2018-01-10    0.001301\n",
      "2018-01-11    0.017818\n",
      "2018-01-12    0.022339\n",
      "2018-01-16   -0.000260\n",
      "2018-01-17   -0.007556\n",
      "2018-01-18   -0.001297\n",
      "2018-01-19    0.000974\n",
      "2018-01-22    0.025282\n",
      "2018-01-23    0.026542\n",
      "2018-01-24   -0.003692\n",
      "2018-01-25    0.015057\n",
      "2018-01-26    0.015146\n",
      "Name: Simple_Return, Length: 3290, dtype: float64\n"
     ]
    }
   ],
   "source": [
    "print AMZN['Simple_Return']"
   ]
  },
  {
   "cell_type": "code",
   "execution_count": 17,
   "metadata": {},
   "outputs": [
    {
     "name": "stdout",
     "output_type": "stream",
     "text": [
      "1\n"
     ]
    }
   ],
   "source": [
    "print x"
   ]
  },
  {
   "cell_type": "code",
   "execution_count": 28,
   "metadata": {
    "collapsed": true
   },
   "outputs": [],
   "source": [
    "def summation(num):\n",
    "    cntr = 1\n",
    "    sum = 1\n",
    "    while cntr < num:\n",
    "        sum = sum + cntr\n",
    "        print \"cntr: \", cntr\n",
    "        print \"sum:\", sum\n",
    "        cntr += 1\n",
    "    print \"Submitted value:\", num\n",
    "    print \"Summation:\", sum"
   ]
  },
  {
   "cell_type": "code",
   "execution_count": 29,
   "metadata": {},
   "outputs": [
    {
     "name": "stdout",
     "output_type": "stream",
     "text": [
      "cntr:  1\n",
      "sum: 2\n",
      "cntr:  2\n",
      "sum: 4\n",
      "cntr:  3\n",
      "sum: 7\n",
      "cntr:  4\n",
      "sum: 11\n",
      "cntr:  5\n",
      "sum: 16\n",
      "cntr:  6\n",
      "sum: 22\n",
      "cntr:  7\n",
      "sum: 29\n",
      "Submitted value: 8\n",
      "Summation: 29\n"
     ]
    }
   ],
   "source": [
    "summation(8)"
   ]
  },
  {
   "cell_type": "code",
   "execution_count": 46,
   "metadata": {},
   "outputs": [],
   "source": [
    "def summation(num):\n",
    "    print num * ( num + 1 ) / 2"
   ]
  },
  {
   "cell_type": "code",
   "execution_count": 53,
   "metadata": {},
   "outputs": [
    {
     "name": "stdout",
     "output_type": "stream",
     "text": [
      "36\n"
     ]
    }
   ],
   "source": [
    "summation(8)\n"
   ]
  },
  {
   "cell_type": "code",
   "execution_count": 58,
   "metadata": {},
   "outputs": [],
   "source": [
    "def bool_to_word(bool):\n",
    "    if bool == True:\n",
    "        print \"Yes\"\n",
    "    else:\n",
    "        print \"No\""
   ]
  },
  {
   "cell_type": "code",
   "execution_count": 60,
   "metadata": {},
   "outputs": [
    {
     "name": "stdout",
     "output_type": "stream",
     "text": [
      "No\n"
     ]
    }
   ],
   "source": [
    "bool_to_word(False)"
   ]
  },
  {
   "cell_type": "code",
   "execution_count": null,
   "metadata": {
    "collapsed": true
   },
   "outputs": [],
   "source": []
  }
 ],
 "metadata": {
  "kernelspec": {
   "display_name": "Python 2",
   "language": "python",
   "name": "python2"
  },
  "language_info": {
   "codemirror_mode": {
    "name": "ipython",
    "version": 2
   },
   "file_extension": ".py",
   "mimetype": "text/x-python",
   "name": "python",
   "nbconvert_exporter": "python",
   "pygments_lexer": "ipython2",
   "version": "2.7.14"
  }
 },
 "nbformat": 4,
 "nbformat_minor": 2
}
