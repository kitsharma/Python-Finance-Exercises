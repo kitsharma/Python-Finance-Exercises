{
 "cells": [
  {
   "cell_type": "code",
   "execution_count": 1,
   "metadata": {
    "collapsed": true
   },
   "outputs": [],
   "source": [
    "# ln (Pt/Pt-1)"
   ]
  },
  {
   "cell_type": "code",
   "execution_count": 2,
   "metadata": {
    "collapsed": true
   },
   "outputs": [],
   "source": [
    "import numpy as np\n",
    "from pandas_datareader import data as wb\n",
    "import matplotlib.pyplot as plt\n",
    "import math"
   ]
  },
  {
   "cell_type": "code",
   "execution_count": 3,
   "metadata": {},
   "outputs": [
    {
     "name": "stdout",
     "output_type": "stream",
     "text": [
      "Enter the stock symbol: CSCO\n"
     ]
    }
   ],
   "source": [
    "stSYM = raw_input(\"Enter the stock symbol: \")"
   ]
  },
  {
   "cell_type": "code",
   "execution_count": 4,
   "metadata": {
    "collapsed": true
   },
   "outputs": [],
   "source": [
    "STOCK = wb.DataReader(stSYM, data_source='yahoo', start='2005-1-1')"
   ]
  },
  {
   "cell_type": "code",
   "execution_count": 5,
   "metadata": {},
   "outputs": [
    {
     "data": {
      "text/html": [
       "<div>\n",
       "<style>\n",
       "    .dataframe thead tr:only-child th {\n",
       "        text-align: right;\n",
       "    }\n",
       "\n",
       "    .dataframe thead th {\n",
       "        text-align: left;\n",
       "    }\n",
       "\n",
       "    .dataframe tbody tr th {\n",
       "        vertical-align: top;\n",
       "    }\n",
       "</style>\n",
       "<table border=\"1\" class=\"dataframe\">\n",
       "  <thead>\n",
       "    <tr style=\"text-align: right;\">\n",
       "      <th></th>\n",
       "      <th>Open</th>\n",
       "      <th>High</th>\n",
       "      <th>Low</th>\n",
       "      <th>Close</th>\n",
       "      <th>Adj Close</th>\n",
       "      <th>Volume</th>\n",
       "    </tr>\n",
       "    <tr>\n",
       "      <th>Date</th>\n",
       "      <th></th>\n",
       "      <th></th>\n",
       "      <th></th>\n",
       "      <th></th>\n",
       "      <th></th>\n",
       "      <th></th>\n",
       "    </tr>\n",
       "  </thead>\n",
       "  <tbody>\n",
       "    <tr>\n",
       "      <th>2005-01-03</th>\n",
       "      <td>19.420000</td>\n",
       "      <td>19.610001</td>\n",
       "      <td>19.270000</td>\n",
       "      <td>19.320000</td>\n",
       "      <td>15.844144</td>\n",
       "      <td>56725600</td>\n",
       "    </tr>\n",
       "    <tr>\n",
       "      <th>2005-01-04</th>\n",
       "      <td>19.379999</td>\n",
       "      <td>19.389999</td>\n",
       "      <td>18.540001</td>\n",
       "      <td>18.559999</td>\n",
       "      <td>15.220872</td>\n",
       "      <td>106241900</td>\n",
       "    </tr>\n",
       "    <tr>\n",
       "      <th>2005-01-05</th>\n",
       "      <td>18.469999</td>\n",
       "      <td>18.879999</td>\n",
       "      <td>18.450001</td>\n",
       "      <td>18.570000</td>\n",
       "      <td>15.229073</td>\n",
       "      <td>66100500</td>\n",
       "    </tr>\n",
       "    <tr>\n",
       "      <th>2005-01-06</th>\n",
       "      <td>18.670000</td>\n",
       "      <td>18.860001</td>\n",
       "      <td>18.559999</td>\n",
       "      <td>18.850000</td>\n",
       "      <td>15.458699</td>\n",
       "      <td>63790900</td>\n",
       "    </tr>\n",
       "    <tr>\n",
       "      <th>2005-01-07</th>\n",
       "      <td>18.920000</td>\n",
       "      <td>18.980000</td>\n",
       "      <td>18.620001</td>\n",
       "      <td>18.719999</td>\n",
       "      <td>15.352087</td>\n",
       "      <td>54415000</td>\n",
       "    </tr>\n",
       "  </tbody>\n",
       "</table>\n",
       "</div>"
      ],
      "text/plain": [
       "                 Open       High        Low      Close  Adj Close     Volume\n",
       "Date                                                                        \n",
       "2005-01-03  19.420000  19.610001  19.270000  19.320000  15.844144   56725600\n",
       "2005-01-04  19.379999  19.389999  18.540001  18.559999  15.220872  106241900\n",
       "2005-01-05  18.469999  18.879999  18.450001  18.570000  15.229073   66100500\n",
       "2005-01-06  18.670000  18.860001  18.559999  18.850000  15.458699   63790900\n",
       "2005-01-07  18.920000  18.980000  18.620001  18.719999  15.352087   54415000"
      ]
     },
     "execution_count": 5,
     "metadata": {},
     "output_type": "execute_result"
    }
   ],
   "source": [
    "# Sanity Check for data\n",
    "STOCK.head()"
   ]
  },
  {
   "cell_type": "code",
   "execution_count": 7,
   "metadata": {},
   "outputs": [],
   "source": [
    "STOCK['log_return'] = np.log(STOCK['Adj Close'] / STOCK['Adj Close'].shift(1))"
   ]
  },
  {
   "cell_type": "code",
   "execution_count": 9,
   "metadata": {},
   "outputs": [
    {
     "name": "stdout",
     "output_type": "stream",
     "text": [
      "Date\n",
      "2005-01-03         NaN\n",
      "2005-01-04   -0.040132\n",
      "2005-01-05    0.000539\n",
      "2005-01-06    0.014966\n",
      "2005-01-07   -0.006920\n",
      "2005-01-10    0.000000\n",
      "2005-01-11   -0.004283\n",
      "2005-01-12    0.015438\n",
      "2005-01-13   -0.007955\n",
      "2005-01-14    0.005311\n",
      "2005-01-18   -0.007443\n",
      "2005-01-19   -0.031990\n",
      "2005-01-20    0.009323\n",
      "2005-01-21   -0.017066\n",
      "2005-01-24   -0.014541\n",
      "2005-01-25   -0.013614\n",
      "2005-01-26    0.010227\n",
      "2005-01-27    0.027323\n",
      "2005-01-28   -0.015521\n",
      "2005-01-31    0.007791\n",
      "2005-02-01    0.004976\n",
      "2005-02-02    0.001102\n",
      "2005-02-03   -0.035327\n",
      "2005-02-04    0.021458\n",
      "2005-02-07    0.014420\n",
      "2005-02-08    0.004396\n",
      "2005-02-09   -0.034015\n",
      "2005-02-10   -0.002840\n",
      "2005-02-11    0.006803\n",
      "2005-02-14    0.015139\n",
      "                ...   \n",
      "2017-12-20    0.011423\n",
      "2017-12-21   -0.005436\n",
      "2017-12-22    0.000519\n",
      "2017-12-26   -0.001817\n",
      "2017-12-27    0.002077\n",
      "2017-12-28    0.000778\n",
      "2017-12-29   -0.007543\n",
      "2018-01-02    0.014516\n",
      "2018-01-03    0.007946\n",
      "2018-01-04    0.002825\n",
      "2018-01-05    0.013755\n",
      "2018-01-08    0.010318\n",
      "2018-01-09   -0.006279\n",
      "2018-01-10    0.005528\n",
      "2018-01-11    0.004749\n",
      "2018-01-12    0.019020\n",
      "2018-01-16   -0.008107\n",
      "2018-01-17    0.016149\n",
      "2018-01-18    0.002424\n",
      "2018-01-19   -0.000242\n",
      "2018-01-22    0.008921\n",
      "2018-01-23    0.010506\n",
      "2018-01-24    0.001661\n",
      "2018-01-25   -0.006423\n",
      "2018-01-26    0.015629\n",
      "2018-01-29    0.006791\n",
      "2018-01-30   -0.014101\n",
      "2018-01-31   -0.016948\n",
      "2018-02-01    0.003844\n",
      "2018-02-02   -0.006134\n",
      "Name: log_return, Length: 3295, dtype: float64\n"
     ]
    }
   ],
   "source": [
    "print STOCK['log_return']"
   ]
  },
  {
   "cell_type": "code",
   "execution_count": 10,
   "metadata": {},
   "outputs": [
    {
     "data": {
      "image/png": "[encoded data removed]",
      "text/plain": [
       "<matplotlib.figure.Figure at 0x8de74a8>"
      ]
     },
     "metadata": {},
     "output_type": "display_data"
    }
   ],
   "source": [
    "STOCK['log_return'].plot(figsize=(8,5))\n",
    "plt.show()"
   ]
  },
  {
   "cell_type": "code",
   "execution_count": 11,
   "metadata": {
    "scrolled": true
   },
   "outputs": [
    {
     "data": {
      "text/plain": [
       "0.0002919147779936646"
      ]
     },
     "execution_count": 11,
     "metadata": {},
     "output_type": "execute_result"
    }
   ],
   "source": [
    "log_return_d = STOCK['log_return'].mean()\n",
    "log_return_d"
   ]
  },
  {
   "cell_type": "code",
   "execution_count": 12,
   "metadata": {},
   "outputs": [
    {
     "data": {
      "text/plain": [
       "0.07297869449841615"
      ]
     },
     "execution_count": 12,
     "metadata": {},
     "output_type": "execute_result"
    }
   ],
   "source": [
    "log_return_a = STOCK['log_return'].mean() * 250\n",
    "log_return_a"
   ]
  },
  {
   "cell_type": "code",
   "execution_count": 15,
   "metadata": {},
   "outputs": [
    {
     "name": "stdout",
     "output_type": "stream",
     "text": [
      "Average Return  7.298 %\n"
     ]
    }
   ],
   "source": [
    "print \"Average Return \", str(round(log_return_a,5) * 100) + ' %'"
   ]
  },
  {
   "cell_type": "code",
   "execution_count": null,
   "metadata": {
    "collapsed": true
   },
   "outputs": [],
   "source": []
  }
 ],
 "metadata": {
  "kernelspec": {
   "display_name": "Python 2",
   "language": "python",
   "name": "python2"
  },
  "language_info": {
   "codemirror_mode": {
    "name": "ipython",
    "version": 2
   },
   "file_extension": ".py",
   "mimetype": "text/x-python",
   "name": "python",
   "nbconvert_exporter": "python",
   "pygments_lexer": "ipython2",
   "version": "2.7.14"
  }
 },
 "nbformat": 4,
 "nbformat_minor": 2
}
